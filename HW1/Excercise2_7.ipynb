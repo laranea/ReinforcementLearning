{
 "cells": [
  {
   "cell_type": "markdown",
   "metadata": {},
   "source": [
    "# Recency Weighted Bias Incremental Approach"
   ]
  },
  {
   "cell_type": "code",
   "execution_count": 1,
   "metadata": {},
   "outputs": [],
   "source": [
    "import matplotlib\n",
    "import matplotlib.pyplot as plt\n",
    "import numpy as np\n",
    "from tqdm import trange"
   ]
  },
  {
   "cell_type": "code",
   "execution_count": 2,
   "metadata": {},
   "outputs": [],
   "source": [
    "class Bandit:\n",
    "\n",
    "    def __init__(self, epsilon=0., step_size=0.1, constant_stepsize=None):\n",
    "        self.step_size = step_size\n",
    "        self.indices = np.arange(10)\n",
    "        self.time = 0\n",
    "        self.average_reward = 0\n",
    "        self.true_reward = 0.\n",
    "        self.epsilon = epsilon\n",
    "        self.constant_stepsize=constant_stepsize\n",
    "\n",
    "    def choose_action(self):\n",
    "        if np.random.rand() < self.epsilon:\n",
    "            return np.random.choice(self.indices)\n",
    "\n",
    "        q_best = np.max(self.q_est)\n",
    "        return np.random.choice(np.where(self.q_est == q_best)[0])\n",
    "\n",
    "\n",
    "    def update_action_value(self, action):\n",
    "\n",
    "        reward = np.random.randn() + self.q_true[action]\n",
    "        self.time += 1\n",
    "        self.action_count[action] += 1\n",
    "        self.average_reward += (reward - self.average_reward) / self.time\n",
    "\n",
    "        if not self.constant_stepsize:\n",
    "            self.q_est[action] += (reward - self.q_est[action]) / self.action_count[action]        \n",
    "        else:\n",
    "            self.q_est[action] += self.step_size * (reward - self.q_est[action])\n",
    " \n",
    "        return reward"
   ]
  },
  {
   "cell_type": "code",
   "execution_count": 3,
   "metadata": {},
   "outputs": [],
   "source": [
    "def non_stationary(runs, time, bandits):\n",
    "    \n",
    "    rewards = np.zeros((len(bandits), runs, time))\n",
    "    best_action_counts = np.zeros(rewards.shape)\n",
    "    for i, bandit in enumerate(bandits):\n",
    "        print(\"Bandit \", i)\n",
    "        for r in range(runs):\n",
    " \n",
    "            if r %100 ==0:\n",
    "                print(\"Iterations: \", r)\n",
    "            \n",
    "            bandit.q_true = np.random.randn(10) + np.random.normal(0,0.1)\n",
    "            bandit.q_est = np.zeros(10)\n",
    "            bandit.action_count = np.zeros(10)\n",
    "            bandit.best_action = np.argmax(bandit.q_true)\n",
    "            bandit.time = 0\n",
    "            \n",
    "            for t in range(time):\n",
    "                action = bandit.choose_action()\n",
    "                reward = bandit.update_action_value(action)\n",
    "                rewards[i, r, t] = reward\n",
    "                if action == bandit.best_action:\n",
    "                    best_action_counts[i, r, t] = 1\n",
    "\n",
    "    return best_action_counts.mean(axis=1)\n"
   ]
  },
  {
   "cell_type": "code",
   "execution_count": 4,
   "metadata": {},
   "outputs": [
    {
     "name": "stdout",
     "output_type": "stream",
     "text": [
      "Bandit  0\n",
      "Iterations:  0\n",
      "Iterations:  100\n",
      "Iterations:  200\n",
      "Iterations:  300\n",
      "Iterations:  400\n",
      "Iterations:  500\n",
      "Iterations:  600\n",
      "Iterations:  700\n",
      "Iterations:  800\n",
      "Iterations:  900\n",
      "Iterations:  1000\n",
      "Iterations:  1100\n",
      "Iterations:  1200\n",
      "Iterations:  1300\n",
      "Iterations:  1400\n"
     ]
    },
    {
     "data": {
      "text/plain": [
       "<matplotlib.legend.Legend at 0x1104a0518>"
      ]
     },
     "execution_count": 4,
     "metadata": {},
     "output_type": "execute_result"
    },
    {
     "data": {
      "image/png": "[encoded data removed]",
      "text/plain": [
       "<Figure size 432x288 with 1 Axes>"
      ]
     },
     "metadata": {},
     "output_type": "display_data"
    }
   ],
   "source": [
    "runs, time=1500,1000\n",
    "bandits = []\n",
    "bandits.append(Bandit(epsilon=0.1, step_size=0.1, constant_stepsize=True))\n",
    "#bandits.append(Bandit(epsilon=0.1, constant_stepsize=False))\n",
    "best_action_counts = non_stationary(runs, time, bandits)\n",
    "\n",
    "plt.plot(best_action_counts[0], label='Constant Step Size')\n",
    "#plt.plot(best_action_counts[1], label='Not Constant Step Size')\n",
    "plt.xlabel('Steps')\n",
    "plt.ylabel('% optimal action')\n",
    "plt.legend()\n"
   ]
  },
  {
   "cell_type": "code",
   "execution_count": null,
   "metadata": {},
   "outputs": [],
   "source": []
  }
 ],
 "metadata": {
  "kernelspec": {
   "display_name": "Python 3",
   "language": "python",
   "name": "python3"
  },
  "language_info": {
   "codemirror_mode": {
    "name": "ipython",
    "version": 3
   },
   "file_extension": ".py",
   "mimetype": "text/x-python",
   "name": "python",
   "nbconvert_exporter": "python",
   "pygments_lexer": "ipython3",
   "version": "3.6.5"
  }
 },
 "nbformat": 4,
 "nbformat_minor": 2
}
