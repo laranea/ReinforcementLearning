{
 "cells": [
  {
   "cell_type": "markdown",
   "metadata": {},
   "source": [
    "#  Find vπ(s)"
   ]
  },
  {
   "cell_type": "code",
   "execution_count": 2,
   "metadata": {},
   "outputs": [
    {
     "name": "stdout",
     "output_type": "stream",
     "text": [
      "------------------------------------------\n",
      "| -5.0 | -4.396 | -4.007 | -2.282 | -3.096 | \n",
      "------------------------------------------\n",
      "| -2.5 | -2.25 | -2.25 | -2.25 | -2.5 | \n",
      "------------------------------------------\n",
      "| -2.5 | -2.25 | -2.25 | -2.25 | -2.5 | \n",
      "------------------------------------------\n",
      "| -2.5 | -2.25 | -2.25 | -2.25 | -2.5 | \n",
      "------------------------------------------\n",
      "| -5.0 | -4.677 | -4.396 | -4.152 | -4.306 | \n",
      "--------------------------------------------\n"
     ]
    }
   ],
   "source": [
    "import numpy as np\n",
    "state_value = np.zeros((5, 5))\n",
    "while True:\n",
    "    # keep iteration until convergence\n",
    "    new_state_value = np.zeros_like(state_value)\n",
    "    for i in range(5):\n",
    "        for j in range(5):\n",
    "            for action in [np.array([0, -1]),np.array([-1, 0]),np.array([0, 1]),np.array([1, 0])]:\n",
    "                \n",
    "                if [i,j] == [0, 1]:\n",
    "                    state = [4, 1]\n",
    "                    reward = 10\n",
    "                if [i,j] == [0, 3]:\n",
    "                    state = [2, 3]\n",
    "                    reward = 5\n",
    "\n",
    "                tempx, tempy = (np.array([i,j]) + action).tolist()\n",
    "                if tempx < 0 or tempx >= 5 or tempy < 0 or tempy >= 5:\n",
    "                    reward = -1.0\n",
    "                    state=[i,j]\n",
    "                else:\n",
    "                    reward = 0\n",
    "                    \n",
    "                (next_i, next_j) = state\n",
    "                # bellman equation\n",
    "                new_state_value[i, j] += 0.25 * (reward + 0.9 * state_value[next_i, next_j])\n",
    "                \n",
    "    if np.sum(np.abs(state_value - new_state_value)) < 1e-4: # check for size of update; if update is small -> stop\n",
    "        for i in range(0, 5):\n",
    "            print('------------------------------------------')\n",
    "            out = '| '\n",
    "            for j in range(0, 5):\n",
    "                out += str(round(new_state_value[i][j],3)) + ' | '\n",
    "            print(out)\n",
    "        print('--------------------------------------------')\n",
    "        break\n",
    "    state_value = new_state_value\n"
   ]
  },
  {
   "cell_type": "code",
   "execution_count": null,
   "metadata": {},
   "outputs": [],
   "source": []
  }
 ],
 "metadata": {
  "kernelspec": {
   "display_name": "Python 3",
   "language": "python",
   "name": "python3"
  },
  "language_info": {
   "codemirror_mode": {
    "name": "ipython",
    "version": 3
   },
   "file_extension": ".py",
   "mimetype": "text/x-python",
   "name": "python",
   "nbconvert_exporter": "python",
   "pygments_lexer": "ipython3",
   "version": "3.6.5"
  }
 },
 "nbformat": 4,
 "nbformat_minor": 2
}
